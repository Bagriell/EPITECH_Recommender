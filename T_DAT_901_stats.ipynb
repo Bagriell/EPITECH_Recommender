{
  "cells": [
    {
      "cell_type": "markdown",
      "metadata": {
        "id": "gU-q5UfJm03N"
      },
      "source": [
        "# mount drive where is stored (my) data"
      ]
    },
    {
      "cell_type": "code",
      "execution_count": null,
      "metadata": {
        "colab": {
          "base_uri": "https://localhost:8080/"
        },
        "id": "270m_GjemzzN",
        "outputId": "468f9071-4e70-43c4-b319-ff4b5e057068"
      },
      "outputs": [],
      "source": [
        "from google.colab import drive\n",
        "drive.mount('/content/drive')"
      ]
    },
    {
      "cell_type": "markdown",
      "metadata": {
        "id": "-v9HSJJDo_Ld"
      },
      "source": [
        "# imports"
      ]
    },
    {
      "cell_type": "code",
      "execution_count": null,
      "metadata": {
        "id": "0Kz_cccbvjf0"
      },
      "outputs": [],
      "source": [
        "import pandas as pd\n",
        "from matplotlib import pyplot as plt\n",
        "import plotly.express as px\n",
        "import plotly.graph_objects as go\n",
        "import pprint\n",
        "import numpy as np"
      ]
    },
    {
      "cell_type": "markdown",
      "metadata": {
        "id": "Ep9A9e8zpOi1"
      },
      "source": [
        "# read data"
      ]
    },
    {
      "cell_type": "code",
      "execution_count": null,
      "metadata": {
        "id": "p0bOVVKsv3LL"
      },
      "outputs": [],
      "source": [
        "path = \"drive/MyDrive/KaDo.csv\"\n",
        "\n",
        "df = pd.read_csv(path)"
      ]
    },
    {
      "cell_type": "code",
      "execution_count": null,
      "metadata": {
        "colab": {
          "base_uri": "https://localhost:8080/",
          "height": 363
        },
        "id": "weVThUNUwA3H",
        "outputId": "d7494419-2939-4955-e096-405f10dd3a8c"
      },
      "outputs": [],
      "source": [
        "df[:10]"
      ]
    },
    {
      "cell_type": "code",
      "execution_count": null,
      "metadata": {
        "colab": {
          "base_uri": "https://localhost:8080/"
        },
        "id": "I9LuenGql8Lh",
        "outputId": "ae255ad3-c6c0-4cd2-9483-66ed5c0e3008"
      },
      "outputs": [],
      "source": [
        "print(f\"\"\"\n",
        "👉 rows 👈\n",
        "{df.shape[0]}\n",
        "\n",
        "👉 columns 👈\n",
        "{df.shape[1]}\n",
        "\n",
        "👉 nul values 👈\n",
        "{df.isnull().values.ravel().sum()} \n",
        "\n",
        "👉 labels - dtypes 👈\n",
        "{df.dtypes}\n",
        "\"\"\")"
      ]
    },
    {
      "cell_type": "markdown",
      "metadata": {
        "id": "27KgaWeaq4k1"
      },
      "source": [
        "# statistics"
      ]
    },
    {
      "cell_type": "markdown",
      "metadata": {
        "id": "59kvZN7krqUJ"
      },
      "source": [
        "## number of item per maille"
      ]
    },
    {
      "cell_type": "code",
      "execution_count": null,
      "metadata": {
        "colab": {
          "base_uri": "https://localhost:8080/",
          "height": 542
        },
        "id": "HNgqDdSJtgAe",
        "outputId": "ea328eeb-3828-4181-c162-19e745bd244a"
      },
      "outputs": [],
      "source": [
        "res = df.groupby(\"MAILLE\")[\"LIBELLE\"].nunique()\n",
        "\n",
        "x = res.index.tolist()\n",
        "y = res.values.tolist()\n",
        "colors = df.groupby(\"MAILLE\")[\"LIBELLE\"].count()\n",
        "\n",
        "fig = px.bar(\n",
        "    df, x=x, y=y,\n",
        "    color=colors,\n",
        "    labels={\n",
        "        'x': \"Maille\",\n",
        "        'y': 'item_nb',\n",
        "        'color':'total item sold',\n",
        "        },\n",
        "      title=\"number of items per MAILLE\"\n",
        "    )\n",
        "\n",
        "fig.update_layout(barmode='stack', xaxis={'categoryorder':'total descending'})"
      ]
    },
    {
      "cell_type": "markdown",
      "metadata": {
        "id": "O1QKEP4Q2LXZ"
      },
      "source": [
        "## number of item per Univers"
      ]
    },
    {
      "cell_type": "code",
      "execution_count": null,
      "metadata": {
        "colab": {
          "base_uri": "https://localhost:8080/",
          "height": 542
        },
        "id": "LKdXFksn1G2q",
        "outputId": "fb7100de-c418-4da9-f98e-de7e18ad9d72"
      },
      "outputs": [],
      "source": [
        "res = df.groupby(\"UNIVERS\")[\"LIBELLE\"].nunique()\n",
        "\n",
        "x = res.index.tolist()\n",
        "y = res.values.tolist()\n",
        "colors = df.groupby(\"UNIVERS\")[\"LIBELLE\"].count()\n",
        "\n",
        "fig = px.bar(\n",
        "    df, x=x, y=y,\n",
        "    color=colors,\n",
        "    labels={\n",
        "        'x': \"univers\",\n",
        "        'y': 'item_nb',\n",
        "        'color':'total item solds',\n",
        "        },\n",
        "      title=\"number of items per Univers\"\n",
        "    )\n",
        "\n",
        "fig.update_layout(barmode='stack', xaxis={'categoryorder':'total descending'})"
      ]
    },
    {
      "cell_type": "markdown",
      "metadata": {
        "id": "_AW8bS9g2lJN"
      },
      "source": [
        "## number of items per Family"
      ]
    },
    {
      "cell_type": "code",
      "execution_count": null,
      "metadata": {
        "colab": {
          "base_uri": "https://localhost:8080/",
          "height": 542
        },
        "id": "oHaO1VD12dwB",
        "outputId": "d5b62371-31e7-402d-86c8-a508e2a39eb0"
      },
      "outputs": [],
      "source": [
        "res = df.groupby(\"FAMILLE\")[\"LIBELLE\"].nunique()\n",
        "\n",
        "x = res.index.tolist()\n",
        "y = res.values.tolist()\n",
        "colors = df.groupby(\"FAMILLE\")[\"LIBELLE\"].count()\n",
        "\n",
        "fig = px.bar(\n",
        "    df, x=x, y=y,\n",
        "    color=colors,\n",
        "    labels={\n",
        "        'x': \"FAMILLE\",\n",
        "        'y': 'item_nb',\n",
        "        'color':'total item sold',\n",
        "        },\n",
        "      title=\"number of items per FAMILLE\"\n",
        "    )\n",
        "\n",
        "fig.update_layout(barmode='stack', xaxis={'categoryorder':'total descending'})"
      ]
    },
    {
      "cell_type": "markdown",
      "metadata": {
        "id": "wpTfVZdpAo4m"
      },
      "source": [
        "## most popular and average per Maille"
      ]
    },
    {
      "cell_type": "code",
      "execution_count": null,
      "metadata": {
        "colab": {
          "base_uri": "https://localhost:8080/",
          "height": 1000
        },
        "id": "xb2t7C6YMNGb",
        "outputId": "19a65e55-ad71-4a06-dfb3-4b03226972f9"
      },
      "outputs": [],
      "source": [
        "# groupby\n",
        "pop_product = df.groupby(\"MAILLE\")[\"LIBELLE\"].value_counts()\n",
        "pop_product_transposed = pop_product.unstack().fillna(0)\n",
        "\n",
        "# format\n",
        "indexes = pop_product_transposed.idxmax(axis=1).tolist()\n",
        "values = pop_product_transposed.max(axis=1).tolist()\n",
        "mailles = pop_product_transposed.index.tolist()\n",
        "\n",
        "val_plus_idx = []\n",
        "\n",
        "for idx, val in enumerate(values):\n",
        "  val_plus_idx.append(f\"{indexes[idx]} \\n🧮 sold: {int(val)}\")\n",
        "\n",
        "# plot\n",
        "fig = go.Figure(\n",
        "    data=[\n",
        "        go.Table(\n",
        "            header= dict(values=[maille for maille in mailles[:int(len(mailles)/2)]]),\n",
        "            cells=dict(values=val_plus_idx[:int(len(mailles)/2)])\n",
        "        )\n",
        "    ]\n",
        ")\n",
        "fig.show()\n",
        "\n",
        "fig = go.Figure(\n",
        "    data=[\n",
        "        go.Table(\n",
        "            header= dict(values=[maille for maille in mailles[int(len(mailles)/2):]]),\n",
        "            cells=dict(values=val_plus_idx[int(len(mailles)/2):])\n",
        "        )\n",
        "    ]\n",
        ")\n",
        "fig.show()\n",
        "\n",
        "# for i in range(0, len(indexes)):\n",
        "#   print(f\"\"\"Maille: {mailles[i]}\n",
        "#         fav_product: {indexes[i]}\n",
        "#         sold_nb: {int(values[i])}\n",
        "#   \"\"\")\n"
      ]
    },
    {
      "cell_type": "markdown",
      "metadata": {
        "id": "7kt8XHvV8GzR"
      },
      "source": [
        "## most popular and average per Univers"
      ]
    },
    {
      "cell_type": "code",
      "execution_count": null,
      "metadata": {
        "colab": {
          "base_uri": "https://localhost:8080/"
        },
        "id": "au9gcOfy-VBn",
        "outputId": "461a8533-8202-46f1-e9de-eb658bc2d1f9"
      },
      "outputs": [],
      "source": [
        "# groupby\n",
        "pop_product = df.groupby(\"UNIVERS\")[\"LIBELLE\"].value_counts()\n",
        "pop_product_transposed = pop_product.unstack().fillna(0)\n",
        "\n",
        "\n",
        "# format\n",
        "indexes = pop_product_transposed.idxmax(axis=1).tolist()\n",
        "values = pop_product_transposed.max(axis=1).tolist()\n",
        "univers = pop_product_transposed.index.tolist()\n",
        "\n",
        "val_plus_idx = []\n",
        "\n",
        "for idx, val in enumerate(values):\n",
        "  val_plus_idx.append(f\"{indexes[idx]} \\n🧮 sold: {int(val)}\")\n",
        "\n",
        "\n",
        "# plot classique illisible\n",
        "for i in range(0, len(indexes)):\n",
        "  print(f\"\"\"Univers: {univers[i]}\n",
        "        fav_product: {indexes[i]}\n",
        "        sold_nb: {int(values[i])}\n",
        "  \"\"\")"
      ]
    },
    {
      "cell_type": "markdown",
      "metadata": {
        "id": "rQkzF3_0_7z2"
      },
      "source": [
        "## most popular and average per Family"
      ]
    },
    {
      "cell_type": "code",
      "execution_count": null,
      "metadata": {
        "colab": {
          "base_uri": "https://localhost:8080/",
          "height": 542
        },
        "id": "4vGB75rj-rJQ",
        "outputId": "a1c03ed3-0aef-4bb6-dfab-b001d358419e"
      },
      "outputs": [],
      "source": [
        "# groupby\n",
        "pop_product = df.groupby(\"FAMILLE\")[\"LIBELLE\"].value_counts()\n",
        "pop_product_transposed = pop_product.unstap                                                ck().fillna(0)\n",
        "\n",
        "\n",
        "# format\n",
        "indexes = pop_product_transposed.idxmax(axis=1).tolist()\n",
        "values = pop_product_transposed.max(axis=1).tolist()\n",
        "families = pop_product_transposed.index.tolist()\n",
        "\n",
        "val_plus_idx = []\n",
        "\n",
        "for idx, val in enumerate(values):\n",
        "  val_plus_idx.append(f\"{indexes[idx]} \\n🧮 sold: {int(val)}\")\n",
        "\n",
        "\n",
        "\n",
        "# for i in range(0, len(indexes)):\n",
        "#   print(f\"\"\"Family: {families[i]}\n",
        "#         fav_product: {indexes[i]}\n",
        "#         sold_nb: {int(values[i])}\n",
        "#   \"\"\")\n",
        "# plot illisible\n",
        "fig = go.Figure(\n",
        "    data=[\n",
        "        go.Table(\n",
        "            header= dict(values=families),\n",
        "            cells=dict(values=val_plus_idx)\n",
        "        )\n",
        "    ]\n",
        ")\n",
        "fig.show()"
      ]
    },
    {
      "cell_type": "markdown",
      "metadata": {
        "id": "SOX5yj9rPMlG"
      },
      "source": [
        "## Mean price for items in the categories"
      ]
    },
    {
      "cell_type": "code",
      "execution_count": null,
      "metadata": {
        "colab": {
          "base_uri": "https://localhost:8080/",
          "height": 455
        },
        "id": "l9ru_WTVPL-X",
        "outputId": "a3e344b2-19d9-4425-8976-b1699475b019"
      },
      "outputs": [],
      "source": [
        "mean = df.groupby([\"MAILLE\",\"LIBELLE\"])[\"LIBELLE\"].describe()\n",
        "mean"
      ]
    },
    {
      "cell_type": "markdown",
      "metadata": {
        "id": "yEoKWkfo_4e3"
      },
      "source": [
        "## Statistical description of client, "
      ]
    },
    {
      "cell_type": "code",
      "execution_count": null,
      "metadata": {
        "id": "Mug6S5W4_872"
      },
      "outputs": [],
      "source": [
        "# product bought\n",
        "# favorite maille/univers/family\n",
        "# favorite product\n",
        "# total price"
      ]
    },
    {
      "cell_type": "markdown",
      "metadata": {
        "id": "ybiTrihe_tY9"
      },
      "source": [
        "Questions:\n",
        "- reduction de dimention\n",
        "\n",
        "https://www.kaggle.com/datasets/vjchoudhary7/customer-segmentation-tutorial-in-python\n",
        "\n",
        "\n",
        "Customer ID: Unique ID assigned to the customer\n",
        "Gender: Gender of the customer\n",
        "Age: Age of the customer\n",
        "Annual Income: Annual Income of the customer\n",
        "Spending Score: Score assigned by the mall based on customer behavior and spending nature\n",
        "\n",
        "https://medium.com/@jorvan68/creating-segmented-groups-for-mall-customer-dataset-using-k-means-clustering-de78fcc2aa03"
      ]
    }
  ],
  "metadata": {
    "colab": {
      "provenance": []
    },
    "kernelspec": {
      "display_name": "dataenv",
      "language": "python",
      "name": "python3"
    },
    "language_info": {
      "name": "python",
      "version": "3.9.13 (tags/v3.9.13:6de2ca5, May 17 2022, 16:36:42) [MSC v.1929 64 bit (AMD64)]"
    },
    "vscode": {
      "interpreter": {
        "hash": "79f75886e27c97162a7f267158f1cc4210dabbcbd350a56f8820e802547bda97"
      }
    }
  },
  "nbformat": 4,
  "nbformat_minor": 0
}
