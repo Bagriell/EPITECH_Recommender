{
 "cells": [
  {
   "attachments": {},
   "cell_type": "markdown",
   "metadata": {},
   "source": [
    "# transaction items dataset builder\n",
    "\n",
    "We want to build the dataset we will use in order to give people the recommended product.  \n",
    "We also analyse and clean data."
   ]
  },
  {
   "attachments": {},
   "cell_type": "markdown",
   "metadata": {},
   "source": [
    "Read data"
   ]
  },
  {
   "cell_type": "code",
   "execution_count": null,
   "metadata": {},
   "outputs": [],
   "source": [
    "import pandas as pd\n",
    "import numpy as np\n",
    "\n",
    "import seaborn as sns\n",
    "from pandas_profiling import ProfileReport\n",
    "import plotly.express as px\n",
    "\n",
    "\n",
    "df = pd.read_csv(\"../data/KaDo.csv\")\n",
    "df"
   ]
  },
  {
   "attachments": {},
   "cell_type": "markdown",
   "metadata": {},
   "source": [
    "Check the following:\n",
    "- amilly analysis\n",
    "- na values\n",
    "- null values"
   ]
  },
  {
   "cell_type": "code",
   "execution_count": null,
   "metadata": {},
   "outputs": [],
   "source": [
    "px.histogram(df, y=\"FAMILLE\", title=\"before cleaning\").update_yaxes(categoryorder=\"total ascending\")"
   ]
  },
  {
   "cell_type": "code",
   "execution_count": null,
   "metadata": {},
   "outputs": [],
   "source": [
    "print(f\"\"\"\n",
    "shape: {df.shape}\n",
    "na: {df.isna().sum().sum()}\n",
    "null: {df.isnull().sum().sum()}\n",
    "dropped: {len(df[df[\"FAMILLE\"].isin([\"MULTI FAMILLES\", \"SANTE NATURELLE\"])])}\n",
    "\"\"\")\n",
    "\n",
    "mask = ~df[\"FAMILLE\"].isin([\"MULTI FAMILLES\",\"SANTE NATURELLE\"])\n",
    "df = df[mask]\n",
    "px.histogram(df, y=\"FAMILLE\", title=\"after cleaning\").update_yaxes(categoryorder=\"total ascending\")"
   ]
  },
  {
   "attachments": {},
   "cell_type": "markdown",
   "metadata": {},
   "source": [
    "g et each product as index and its associated FAMILLE/MAILLE/UNIVERS."
   ]
  },
  {
   "cell_type": "code",
   "execution_count": null,
   "metadata": {},
   "outputs": [],
   "source": [
    "obj_df = df.groupby('LIBELLE').agg({\n",
    "    'FAMILLE': lambda x: x.value_counts().index[0],\n",
    "    'MAILLE': lambda x: x.value_counts().index[0],\n",
    "    'UNIVERS': lambda x: x.value_counts().index[0]\n",
    "}).reset_index()\n",
    "\n",
    "obj_df.set_index('LIBELLE', inplace=True)\n",
    "obj_df"
   ]
  },
  {
   "attachments": {},
   "cell_type": "markdown",
   "metadata": {},
   "source": [
    "get median price for each product because we have a lot of weird prices and hight variance."
   ]
  },
  {
   "cell_type": "code",
   "execution_count": null,
   "metadata": {},
   "outputs": [],
   "source": [
    "obj_df['PRIX_NET_MEDIAN'] = df.groupby('LIBELLE')['PRIX_NET'].median()\n",
    "obj_df"
   ]
  },
  {
   "cell_type": "code",
   "execution_count": null,
   "metadata": {},
   "outputs": [],
   "source": [
    "px.histogram(df, y=\"FAMILLE\")"
   ]
  },
  {
   "cell_type": "code",
   "execution_count": null,
   "metadata": {},
   "outputs": [],
   "source": [
    "sns.histplot(obj_df['PRIX_NET_MEDIAN'], kde=True)"
   ]
  },
  {
   "cell_type": "code",
   "execution_count": null,
   "metadata": {},
   "outputs": [],
   "source": [
    "obj_df[[\"MAILLE\", \"UNIVERS\", \"FAMILLE\"]].describe()"
   ]
  },
  {
   "attachments": {},
   "cell_type": "markdown",
   "metadata": {},
   "source": [
    "## Profiling report\n",
    "\n",
    "The idea is to analyse the variables and their relations through metrics.\n"
   ]
  },
  {
   "cell_type": "code",
   "execution_count": null,
   "metadata": {},
   "outputs": [],
   "source": [
    "profile = ProfileReport(\n",
    "    obj_df,\n",
    "    orange_mode=True,\n",
    "    sortby=\"PRIX_NET_MEDIAN\",\n",
    "    title=\"transaction items report\"\n",
    ")\n",
    "profile.to_file(\"transaction_items_eda_report.html\")\n",
    "obj_df.to_csv(\"transaction_items.csv\")"
   ]
  }
 ],
 "metadata": {
  "kernelspec": {
   "display_name": "dataenv",
   "language": "python",
   "name": "python3"
  },
  "language_info": {
   "codemirror_mode": {
    "name": "ipython",
    "version": 3
   },
   "file_extension": ".py",
   "mimetype": "text/x-python",
   "name": "python",
   "nbconvert_exporter": "python",
   "pygments_lexer": "ipython3",
   "version": "3.9.13"
  },
  "orig_nbformat": 4,
  "vscode": {
   "interpreter": {
    "hash": "79f75886e27c97162a7f267158f1cc4210dabbcbd350a56f8820e802547bda97"
   }
  }
 },
 "nbformat": 4,
 "nbformat_minor": 2
}
